{
 "cells": [
  {
   "cell_type": "code",
   "execution_count": 33,
   "id": "660a9982",
   "metadata": {
    "ExecuteTime": {
     "end_time": "2021-12-25T13:33:13.245740Z",
     "start_time": "2021-12-25T13:33:13.217685Z"
    }
   },
   "outputs": [],
   "source": [
    "import tensorflow as tf\n",
    "from tensorflow import keras\n",
    "import matplotlib.pyplot as plt\n",
    "%matplotlib inline\n",
    "import numpy as np\n",
    "import seaborn as sn\n",
    "import sklearn\n",
    "from sklearn.model_selection import train_test_split as tts\n",
    "import cv2\n",
    "# from google.colab.patches import cv2_imshow\n",
    "from tensorflow.keras.preprocessing.image import ImageDataGenerator as IDG\n",
    "from keras.utils.np_utils import to_categorical\n",
    "from tensorflow.keras.preprocessing.image import ImageDataGenerator as IDG\n",
    "from tensorflow.keras.models import Sequential\n",
    "from tensorflow.keras.layers import Dense, Dropout, Activation, Flatten\n",
    "from tensorflow.keras.layers import Conv2D, MaxPooling2D\n",
    "# import pickle\n",
    "# import joblib\n",
    "# import os"
   ]
  },
  {
   "cell_type": "code",
   "execution_count": 34,
   "id": "2fb2fc94",
   "metadata": {
    "ExecuteTime": {
     "end_time": "2021-12-25T13:33:13.481937Z",
     "start_time": "2021-12-25T13:33:13.247356Z"
    }
   },
   "outputs": [],
   "source": [
    "(x_train,y_train) , (x_test,y_test) = keras.datasets.mnist.load_data()"
   ]
  },
  {
   "cell_type": "code",
   "execution_count": 35,
   "id": "b9f15fd3",
   "metadata": {
    "ExecuteTime": {
     "end_time": "2021-12-25T13:33:13.512901Z",
     "start_time": "2021-12-25T13:33:13.483234Z"
    }
   },
   "outputs": [],
   "source": [
    "x_train, x_val, y_train, y_val = tts(x_train,y_train,test_size=0.15)"
   ]
  },
  {
   "cell_type": "code",
   "execution_count": 36,
   "id": "41769d8a",
   "metadata": {
    "ExecuteTime": {
     "end_time": "2021-12-25T13:33:13.528847Z",
     "start_time": "2021-12-25T13:33:13.513855Z"
    }
   },
   "outputs": [
    {
     "data": {
      "text/plain": [
       "(51000, 9000, 10000)"
      ]
     },
     "execution_count": 36,
     "metadata": {},
     "output_type": "execute_result"
    }
   ],
   "source": [
    "len(x_train), len(x_val), len(x_test)"
   ]
  },
  {
   "cell_type": "code",
   "execution_count": 37,
   "id": "f972037a",
   "metadata": {
    "ExecuteTime": {
     "end_time": "2021-12-25T13:33:13.544773Z",
     "start_time": "2021-12-25T13:33:13.530810Z"
    }
   },
   "outputs": [
    {
     "data": {
      "text/plain": [
       "(51000, 9000, 10000)"
      ]
     },
     "execution_count": 37,
     "metadata": {},
     "output_type": "execute_result"
    }
   ],
   "source": [
    "len(y_train), len(y_val), len(y_test)"
   ]
  },
  {
   "cell_type": "code",
   "execution_count": 38,
   "id": "15b96a7a",
   "metadata": {
    "ExecuteTime": {
     "end_time": "2021-12-25T13:33:13.559769Z",
     "start_time": "2021-12-25T13:33:13.545769Z"
    }
   },
   "outputs": [
    {
     "data": {
      "text/plain": [
       "((51000, 28, 28), (9000, 28, 28), (10000, 28, 28))"
      ]
     },
     "execution_count": 38,
     "metadata": {},
     "output_type": "execute_result"
    }
   ],
   "source": [
    "x_train.shape, x_val.shape, x_test.shape"
   ]
  },
  {
   "cell_type": "code",
   "execution_count": 39,
   "id": "8d333c81",
   "metadata": {
    "ExecuteTime": {
     "end_time": "2021-12-25T13:33:13.575691Z",
     "start_time": "2021-12-25T13:33:13.560990Z"
    }
   },
   "outputs": [
    {
     "data": {
      "text/plain": [
       "((51000,), (9000,), (10000,))"
      ]
     },
     "execution_count": 39,
     "metadata": {},
     "output_type": "execute_result"
    }
   ],
   "source": [
    "y_train.shape, y_val.shape, y_test.shape"
   ]
  },
  {
   "cell_type": "code",
   "execution_count": 40,
   "id": "e67fa635",
   "metadata": {
    "ExecuteTime": {
     "end_time": "2021-12-25T13:33:13.591647Z",
     "start_time": "2021-12-25T13:33:13.577989Z"
    }
   },
   "outputs": [
    {
     "data": {
      "text/plain": [
       "array([[  0,   0,   0,   0,   0,   0,   0,   0,   0,   0,   0,   0,   0,\n",
       "          0,   0,   0,   0,   0,   0,   0,   0,   0,   0,   0,   0,   0,\n",
       "          0,   0],\n",
       "       [  0,   0,   0,   0,   0,   0,   0,   0,   0,   0,   0,   0,   0,\n",
       "          0,   0,   0,   0,   0,   0,   0,   0,   0,   0,   0,   0,   0,\n",
       "          0,   0],\n",
       "       [  0,   0,   0,   0,   0,   0,   0,   0,   0,   0,   0,   0,   0,\n",
       "          0,   0,   0,   0,   0,   0,   0,   0,   0,   0,   0,   0,   0,\n",
       "          0,   0],\n",
       "       [  0,   0,   0,   0,   0,   0,   0,   0,   0,   0,  11,  92, 193,\n",
       "        152,  92,  31,   0,   0,   0,   0,   0,   0,   0,   0,   0,   0,\n",
       "          0,   0],\n",
       "       [  0,   0,   0,   0,   0,   0,   0,   0,   0,   0, 132, 252, 253,\n",
       "        252, 253, 232,  41,   0,   0,   0,   0,   0,   0,   0,   0,   0,\n",
       "          0,   0],\n",
       "       [  0,   0,   0,   0,   0,   0,   0,   0,   0,   0,  62,  61,  21,\n",
       "        102, 132, 253, 234,  30,   0,   0,   0,   0,   0,   0,   0,   0,\n",
       "          0,   0],\n",
       "       [  0,   0,   0,   0,   0,   0,   0,   0,   0,   0,   0,   0,   0,\n",
       "          0, 213, 252, 172,  10,   0,   0,   0,   0,   0,   0,   0,   0,\n",
       "          0,   0],\n",
       "       [  0,   0,   0,   0,   0,   0,   0,   0,   0,   0,   0,   0,  11,\n",
       "         92, 254, 233,  41,   0,   0,   0,   0,   0,   0,   0,   0,   0,\n",
       "          0,   0],\n",
       "       [  0,   0,   0,   0,   0,   0,   0,   0,   0,   0,   0,   0, 173,\n",
       "        252, 233,  50,   0,   0,   0,   0,   0,   0,   0,   0,   0,   0,\n",
       "          0,   0],\n",
       "       [  0,   0,   0,   0,   0,   0,   0,   0,   0,   0,  11, 173, 254,\n",
       "        233,   0,   0,   0,   0,   0,   0,   0,   0,   0,   0,   0,   0,\n",
       "          0,   0],\n",
       "       [  0,   0,   0,   0,   0,   0,   0,   0,   0,   0, 132, 252, 253,\n",
       "        192,   0,   0,   0,   0,   0,   0,   0,   0,   0,   0,   0,   0,\n",
       "          0,   0],\n",
       "       [  0,   0,   0,   0,   0,   0,   0,   0,   0,   0, 123, 243, 254,\n",
       "        253, 173,  10,   0,   0,   0,   0,   0,   0,   0,   0,   0,   0,\n",
       "          0,   0],\n",
       "       [  0,   0,   0,   0,   0,   0,   0,   0,   0,   0,   0,  81, 151,\n",
       "        232, 253, 212,  41,   0,   0,   0,   0,   0,   0,   0,   0,   0,\n",
       "          0,   0],\n",
       "       [  0,   0,   0,   0,   0,   0,   0,   0,   0,   0,   0,   0,   0,\n",
       "          0, 173, 253, 254, 131,   0,   0,   0,   0,   0,   0,   0,   0,\n",
       "          0,   0],\n",
       "       [  0,   0,   0,   0,   0,   0,   0,   0,   0,   0,   0,   0,   0,\n",
       "          0,  10,  91, 253, 252, 123,   0,   0,   0,   0,   0,   0,   0,\n",
       "          0,   0],\n",
       "       [  0,   0,   0,   0,   0,   0,   0,   0,   0,   0,   0,   0,   0,\n",
       "          0,   0,   0,  82, 223, 234,  92,   0,   0,   0,   0,   0,   0,\n",
       "          0,   0],\n",
       "       [  0,   0,   0,   0,   0,   0,   0,   0,   0,   0,   0,   0,   0,\n",
       "          0,   0,   0,   0, 102, 253, 232,   0,   0,   0,   0,   0,   0,\n",
       "          0,   0],\n",
       "       [  0,   0,   0,   0,   0,   0,   0,   0,   0,   0,   0,   0,   0,\n",
       "          0,   0,   0,   0,  62, 254, 253,   0,   0,   0,   0,   0,   0,\n",
       "          0,   0],\n",
       "       [  0,   0,   0,   0,   0,   0,   0,   0,   0,   0,   0,   0,   0,\n",
       "          0,   0,   0,  62, 203, 253, 212,   0,   0,   0,   0,   0,   0,\n",
       "          0,   0],\n",
       "       [  0,   0,   0,   0,   0,   0,   0,  21, 123,   0,   0,   0,   0,\n",
       "          0,  52, 132, 255, 253, 244,  81,   0,   0,   0,   0,   0,   0,\n",
       "          0,   0],\n",
       "       [  0,   0,   0,   0,   0,   0,   0, 102, 243, 122, 102, 142, 123,\n",
       "        203, 253, 252, 253, 212,  40,   0,   0,   0,   0,   0,   0,   0,\n",
       "          0,   0],\n",
       "       [  0,   0,   0,   0,   0,   0,   0,   0, 234, 253, 255, 253, 255,\n",
       "        253, 255, 233, 142,  20,   0,   0,   0,   0,   0,   0,   0,   0,\n",
       "          0,   0],\n",
       "       [  0,   0,   0,   0,   0,   0,   0,   0,  51, 151, 253, 252, 253,\n",
       "        252, 151,  50,   0,   0,   0,   0,   0,   0,   0,   0,   0,   0,\n",
       "          0,   0],\n",
       "       [  0,   0,   0,   0,   0,   0,   0,   0,   0,   0,   0,   0,   0,\n",
       "          0,   0,   0,   0,   0,   0,   0,   0,   0,   0,   0,   0,   0,\n",
       "          0,   0],\n",
       "       [  0,   0,   0,   0,   0,   0,   0,   0,   0,   0,   0,   0,   0,\n",
       "          0,   0,   0,   0,   0,   0,   0,   0,   0,   0,   0,   0,   0,\n",
       "          0,   0],\n",
       "       [  0,   0,   0,   0,   0,   0,   0,   0,   0,   0,   0,   0,   0,\n",
       "          0,   0,   0,   0,   0,   0,   0,   0,   0,   0,   0,   0,   0,\n",
       "          0,   0],\n",
       "       [  0,   0,   0,   0,   0,   0,   0,   0,   0,   0,   0,   0,   0,\n",
       "          0,   0,   0,   0,   0,   0,   0,   0,   0,   0,   0,   0,   0,\n",
       "          0,   0],\n",
       "       [  0,   0,   0,   0,   0,   0,   0,   0,   0,   0,   0,   0,   0,\n",
       "          0,   0,   0,   0,   0,   0,   0,   0,   0,   0,   0,   0,   0,\n",
       "          0,   0]], dtype=uint8)"
      ]
     },
     "execution_count": 40,
     "metadata": {},
     "output_type": "execute_result"
    }
   ],
   "source": [
    "x_train[0]"
   ]
  },
  {
   "cell_type": "code",
   "execution_count": 41,
   "id": "94fde6e8",
   "metadata": {
    "ExecuteTime": {
     "end_time": "2021-12-25T13:33:13.750353Z",
     "start_time": "2021-12-25T13:33:13.593701Z"
    }
   },
   "outputs": [
    {
     "data": {
      "text/plain": [
       "<matplotlib.image.AxesImage at 0x1c72dc47100>"
      ]
     },
     "execution_count": 41,
     "metadata": {},
     "output_type": "execute_result"
    },
    {
     "data": {
      "text/plain": [
       "<Figure size 432x288 with 0 Axes>"
      ]
     },
     "metadata": {},
     "output_type": "display_data"
    },
    {
     "data": {
      "image/png": "[encoded data removed]",
      "text/plain": [
       "<Figure size 288x288 with 1 Axes>"
      ]
     },
     "metadata": {
      "needs_background": "light"
     },
     "output_type": "display_data"
    }
   ],
   "source": [
    "plt.gray()\n",
    "plt.matshow(x_train[9])"
   ]
  },
  {
   "cell_type": "code",
   "execution_count": 42,
   "id": "b37b63ce",
   "metadata": {
    "ExecuteTime": {
     "end_time": "2021-12-25T13:33:15.071724Z",
     "start_time": "2021-12-25T13:33:13.752235Z"
    }
   },
   "outputs": [
    {
     "data": {
      "image/png": "[encoded data removed]",
      "text/plain": [
       "<Figure size 288x288 with 1 Axes>"
      ]
     },
     "metadata": {
      "needs_background": "light"
     },
     "output_type": "display_data"
    },
    {
     "data": {
      "image/png": "[encoded data removed]",
      "text/plain": [
       "<Figure size 288x288 with 1 Axes>"
      ]
     },
     "metadata": {
      "needs_background": "light"
     },
     "output_type": "display_data"
    },
    {
     "data": {
      "image/png": "[encoded data removed]",
      "text/plain": [
       "<Figure size 288x288 with 1 Axes>"
      ]
     },
     "metadata": {
      "needs_background": "light"
     },
     "output_type": "display_data"
    },
    {
     "data": {
      "image/png": "[encoded data removed]",
      "text/plain": [
       "<Figure size 288x288 with 1 Axes>"
      ]
     },
     "metadata": {
      "needs_background": "light"
     },
     "output_type": "display_data"
    },
    {
     "data": {
      "image/png": "[encoded data removed]",
      "text/plain": [
       "<Figure size 288x288 with 1 Axes>"
      ]
     },
     "metadata": {
      "needs_background": "light"
     },
     "output_type": "display_data"
    },
    {
     "data": {
      "image/png": "[encoded data removed]",
      "text/plain": [
       "<Figure size 288x288 with 1 Axes>"
      ]
     },
     "metadata": {
      "needs_background": "light"
     },
     "output_type": "display_data"
    },
    {
     "data": {
      "image/png": "[encoded data removed]",
      "text/plain": [
       "<Figure size 288x288 with 1 Axes>"
      ]
     },
     "metadata": {
      "needs_background": "light"
     },
     "output_type": "display_data"
    },
    {
     "data": {
      "image/png": "[encoded data removed]",
      "text/plain": [
       "<Figure size 288x288 with 1 Axes>"
      ]
     },
     "metadata": {
      "needs_background": "light"
     },
     "output_type": "display_data"
    },
    {
     "data": {
      "image/png": "[encoded data removed]",
      "text/plain": [
       "<Figure size 288x288 with 1 Axes>"
      ]
     },
     "metadata": {
      "needs_background": "light"
     },
     "output_type": "display_data"
    },
    {
     "data": {
      "image/png": "[encoded data removed]",
      "text/plain": [
       "<Figure size 288x288 with 1 Axes>"
      ]
     },
     "metadata": {
      "needs_background": "light"
     },
     "output_type": "display_data"
    }
   ],
   "source": [
    "for i in range(100,110):\n",
    "    plt.matshow(x_train[i])"
   ]
  },
  {
   "cell_type": "code",
   "execution_count": 43,
   "id": "ce44cefe",
   "metadata": {
    "ExecuteTime": {
     "end_time": "2021-12-25T13:33:15.086571Z",
     "start_time": "2021-12-25T13:33:15.073606Z"
    }
   },
   "outputs": [
    {
     "data": {
      "text/plain": [
       "array([3, 9, 1, 0, 1], dtype=uint8)"
      ]
     },
     "execution_count": 43,
     "metadata": {},
     "output_type": "execute_result"
    }
   ],
   "source": [
    "y_train[:5]"
   ]
  },
  {
   "cell_type": "code",
   "execution_count": 44,
   "id": "9a29ae17",
   "metadata": {
    "ExecuteTime": {
     "end_time": "2021-12-25T13:33:15.117491Z",
     "start_time": "2021-12-25T13:33:15.087667Z"
    }
   },
   "outputs": [
    {
     "name": "stdout",
     "output_type": "stream",
     "text": [
      "no. of images having class = 0 is 5045\n",
      "no. of images having class = 1 is 5754\n",
      "no. of images having class = 2 is 5060\n",
      "no. of images having class = 3 is 5190\n",
      "no. of images having class = 4 is 4941\n",
      "no. of images having class = 5 is 4581\n",
      "no. of images having class = 6 is 5051\n",
      "no. of images having class = 7 is 5355\n",
      "no. of images having class = 8 is 4966\n",
      "no. of images having class = 9 is 5057\n",
      "\n",
      " [5045, 5754, 5060, 5190, 4941, 4581, 5051, 5355, 4966, 5057]\n"
     ]
    }
   ],
   "source": [
    "noOfClasses = 10\n",
    "noOfSamples = [0,0,0,0,0,0,0,0,0,0]\n",
    "\n",
    "for x in range(0,len(y_train)):\n",
    "    noOfSamples[y_train[x]]+=1\n",
    "\n",
    "for x in range(0, noOfClasses):\n",
    "    print(f\"no. of images having class = {x} is\",noOfSamples[x])\n",
    "print('\\n',noOfSamples)"
   ]
  },
  {
   "cell_type": "code",
   "execution_count": 45,
   "id": "3642b675",
   "metadata": {
    "ExecuteTime": {
     "end_time": "2021-12-25T13:33:15.276053Z",
     "start_time": "2021-12-25T13:33:15.121479Z"
    }
   },
   "outputs": [
    {
     "data": {
      "image/png": "[encoded data removed]",
      "text/plain": [
       "<Figure size 720x360 with 1 Axes>"
      ]
     },
     "metadata": {
      "needs_background": "light"
     },
     "output_type": "display_data"
    }
   ],
   "source": [
    "plt.figure(figsize=(10,5))\n",
    "plt.bar(range(0,noOfClasses), noOfSamples)\n",
    "plt.title(\"No of images for each class\")\n",
    "plt.xlabel(\"class ID\")\n",
    "plt.ylabel(\"No. of images\")\n",
    "plt.show()"
   ]
  },
  {
   "cell_type": "code",
   "execution_count": 46,
   "id": "1e454a59",
   "metadata": {
    "ExecuteTime": {
     "end_time": "2021-12-25T13:33:15.291086Z",
     "start_time": "2021-12-25T13:33:15.277527Z"
    }
   },
   "outputs": [],
   "source": [
    "def preProcessing(img):\n",
    "#     img = cv2.cvtColor(img,cv2.COLOR_BGR2GRAY)\n",
    "    img = cv2.equalizeHist(img)\n",
    "#     noise_factor = 0.1\n",
    "#     img = img.astype('float32')\n",
    "    img = img/255\n",
    "#     img_noisy = img + noise_factor * np.random.normal(loc=0.0, scale=1.0, size=img.shape)\n",
    "#     img_noisy = np.clip(img_noisy, 0., 1.)\n",
    "    return img"
   ]
  },
  {
   "cell_type": "code",
   "execution_count": 47,
   "id": "4aa43a72",
   "metadata": {
    "ExecuteTime": {
     "end_time": "2021-12-25T13:33:18.861420Z",
     "start_time": "2021-12-25T13:33:15.292225Z"
    }
   },
   "outputs": [
    {
     "data": {
      "text/plain": [
       "-1"
      ]
     },
     "execution_count": 47,
     "metadata": {},
     "output_type": "execute_result"
    }
   ],
   "source": [
    "img = preProcessing(x_train[50])\n",
    "img = cv2.resize(img,(300,300))\n",
    "cv2.imshow(\"PreProcessed Image\", img)\n",
    "cv2.waitKey(0)"
   ]
  },
  {
   "cell_type": "markdown",
   "id": "09684ebb",
   "metadata": {},
   "source": [
    "noise_factor = 0.2\n",
    "x_train_noisy = X_train + noise_factor * numpy.random.normal(loc=0.0, scale=1.0, size=X_train.shape)\n",
    "x_test_noisy = X_test + noise_factor * numpy.random.normal(loc=0.0, scale=1.0, size=X_test.shape)\n",
    "x_train_noisy = numpy.clip(x_train_noisy, 0., 1.)\n",
    "x_test_noisy = numpy.clip(x_test_noisy, 0., 1.)"
   ]
  },
  {
   "cell_type": "code",
   "execution_count": 48,
   "id": "d3feb7d6",
   "metadata": {
    "ExecuteTime": {
     "end_time": "2021-12-25T13:33:19.677086Z",
     "start_time": "2021-12-25T13:33:18.864369Z"
    }
   },
   "outputs": [],
   "source": [
    "x_train = np.array(list(map(preProcessing,x_train)))\n",
    "x_test = np.array(list(map(preProcessing,x_test)))\n",
    "x_val = np.array(list(map(preProcessing,x_val)))"
   ]
  },
  {
   "cell_type": "code",
   "execution_count": 49,
   "id": "dd5298d7",
   "metadata": {
    "ExecuteTime": {
     "end_time": "2021-12-25T13:33:19.692351Z",
     "start_time": "2021-12-25T13:33:19.679084Z"
    }
   },
   "outputs": [],
   "source": [
    "x_train = x_train.reshape(x_train.shape[0],x_train.shape[1],x_train.shape[2],1)\n",
    "x_val = x_val.reshape(x_val.shape[0],x_val.shape[1],x_val.shape[2],1)\n",
    "x_test = x_test.reshape(x_test.shape[0],x_test.shape[1],x_test.shape[2],1)"
   ]
  },
  {
   "cell_type": "code",
   "execution_count": 50,
   "id": "7143ad09",
   "metadata": {
    "ExecuteTime": {
     "end_time": "2021-12-25T13:33:19.708053Z",
     "start_time": "2021-12-25T13:33:19.694221Z"
    }
   },
   "outputs": [
    {
     "data": {
      "text/plain": [
       "(51000, 28, 28, 1)"
      ]
     },
     "execution_count": 50,
     "metadata": {},
     "output_type": "execute_result"
    }
   ],
   "source": [
    "x_train.shape"
   ]
  },
  {
   "cell_type": "markdown",
   "id": "26712c2e",
   "metadata": {},
   "source": [
    "dataGen = IDG(\n",
    "            width_shift_range=0.1,\n",
    "            height_shift_range=0.1,\n",
    "            zoom_range=0.2,\n",
    "            shear_range=0.1,\n",
    "            rotation_range=10,\n",
    "#             brightness_range=[0.8,1.0],\n",
    ")"
   ]
  },
  {
   "cell_type": "markdown",
   "id": "59e8d70e",
   "metadata": {},
   "source": [
    "dataGen.fit(x_train)"
   ]
  },
  {
   "cell_type": "code",
   "execution_count": 51,
   "id": "88b4f65d",
   "metadata": {
    "ExecuteTime": {
     "end_time": "2021-12-25T13:33:19.724062Z",
     "start_time": "2021-12-25T13:33:19.709307Z"
    }
   },
   "outputs": [],
   "source": [
    "y_train = to_categorical(y_train,noOfClasses)\n",
    "y_test = to_categorical(y_test,noOfClasses)\n",
    "y_val = to_categorical(y_val,noOfClasses)"
   ]
  },
  {
   "cell_type": "code",
   "execution_count": 52,
   "id": "a35a0d11",
   "metadata": {
    "ExecuteTime": {
     "end_time": "2021-12-25T13:33:19.739543Z",
     "start_time": "2021-12-25T13:33:19.725362Z"
    }
   },
   "outputs": [],
   "source": [
    "imageDimensions=[28,28,1]"
   ]
  },
  {
   "cell_type": "code",
   "execution_count": 53,
   "id": "8198f6cd",
   "metadata": {
    "ExecuteTime": {
     "end_time": "2021-12-25T13:33:19.755653Z",
     "start_time": "2021-12-25T13:33:19.741599Z"
    }
   },
   "outputs": [],
   "source": [
    "# LENET Model\n",
    "def myModel():\n",
    "    noOfFilters = 60\n",
    "    sizeOfFilter1 = (5,5)\n",
    "    sizeOfFilter2 = (3,3)\n",
    "    sizeOfPool = (2,2)\n",
    "    noOfNode = 500\n",
    "    \n",
    "    model = Sequential()\n",
    "    model.add((Conv2D(noOfFilters,sizeOfFilter1, input_shape=(imageDimensions[0],imageDimensions[1],imageDimensions[2]), activation='relu')))\n",
    "    model.add((Conv2D(noOfFilters,sizeOfFilter1, activation='relu')))\n",
    "    model.add(MaxPooling2D(pool_size=sizeOfPool))\n",
    "    model.add((Conv2D(noOfFilters//2,sizeOfFilter2, activation='relu')))\n",
    "    model.add((Conv2D(noOfFilters//2,sizeOfFilter2, activation='relu')))\n",
    "    model.add(MaxPooling2D(pool_size=sizeOfPool))\n",
    "    model.add(Dropout(0.5))\n",
    "    \n",
    "    model.add(Flatten())\n",
    "    model.add(Dense(noOfNode,activation='relu'))\n",
    "    model.add(Dropout(0.5))\n",
    "    model.add(Dense(noOfClasses,activation='softmax'))\n",
    "    model.compile(optimizer=tf.keras.optimizers.Adam(learning_rate=0.001), loss='categorical_crossentropy', metrics=['accuracy'])\n",
    "    \n",
    "    return model"
   ]
  },
  {
   "cell_type": "code",
   "execution_count": 54,
   "id": "93218561",
   "metadata": {
    "ExecuteTime": {
     "end_time": "2021-12-25T13:33:19.834322Z",
     "start_time": "2021-12-25T13:33:19.756917Z"
    }
   },
   "outputs": [
    {
     "name": "stdout",
     "output_type": "stream",
     "text": [
      "Model: \"sequential_1\"\n",
      "_________________________________________________________________\n",
      " Layer (type)                Output Shape              Param #   \n",
      "=================================================================\n",
      " conv2d_4 (Conv2D)           (None, 24, 24, 60)        1560      \n",
      "                                                                 \n",
      " conv2d_5 (Conv2D)           (None, 20, 20, 60)        90060     \n",
      "                                                                 \n",
      " max_pooling2d_2 (MaxPooling  (None, 10, 10, 60)       0         \n",
      " 2D)                                                             \n",
      "                                                                 \n",
      " conv2d_6 (Conv2D)           (None, 8, 8, 30)          16230     \n",
      "                                                                 \n",
      " conv2d_7 (Conv2D)           (None, 6, 6, 30)          8130      \n",
      "                                                                 \n",
      " max_pooling2d_3 (MaxPooling  (None, 3, 3, 30)         0         \n",
      " 2D)                                                             \n",
      "                                                                 \n",
      " dropout_2 (Dropout)         (None, 3, 3, 30)          0         \n",
      "                                                                 \n",
      " flatten_1 (Flatten)         (None, 270)               0         \n",
      "                                                                 \n",
      " dense_2 (Dense)             (None, 500)               135500    \n",
      "                                                                 \n",
      " dropout_3 (Dropout)         (None, 500)               0         \n",
      "                                                                 \n",
      " dense_3 (Dense)             (None, 10)                5010      \n",
      "                                                                 \n",
      "=================================================================\n",
      "Total params: 256,490\n",
      "Trainable params: 256,490\n",
      "Non-trainable params: 0\n",
      "_________________________________________________________________\n",
      "None\n"
     ]
    }
   ],
   "source": [
    "model = myModel()\n",
    "print(model.summary())"
   ]
  },
  {
   "cell_type": "code",
   "execution_count": 55,
   "id": "909d10d2",
   "metadata": {
    "ExecuteTime": {
     "end_time": "2021-12-25T13:33:19.850367Z",
     "start_time": "2021-12-25T13:33:19.837989Z"
    }
   },
   "outputs": [],
   "source": [
    "batchSizeVal = 50\n",
    "epochsVal = 10\n",
    "stepsPerEpochVal = 500"
   ]
  },
  {
   "cell_type": "code",
   "execution_count": 56,
   "id": "63aa2e4f",
   "metadata": {
    "ExecuteTime": {
     "end_time": "2021-12-25T13:34:17.021253Z",
     "start_time": "2021-12-25T13:33:19.853240Z"
    }
   },
   "outputs": [
    {
     "name": "stdout",
     "output_type": "stream",
     "text": [
      "Epoch 1/10\n",
      "500/500 [==============================] - 12s 10ms/step - loss: 0.4506 - accuracy: 0.8519 - val_loss: 0.1093 - val_accuracy: 0.9668\n",
      "Epoch 2/10\n",
      "500/500 [==============================] - 5s 10ms/step - loss: 0.1486 - accuracy: 0.9545 - val_loss: 0.0566 - val_accuracy: 0.9820\n",
      "Epoch 3/10\n",
      "500/500 [==============================] - 5s 10ms/step - loss: 0.1135 - accuracy: 0.9649 - val_loss: 0.0489 - val_accuracy: 0.9862\n",
      "Epoch 4/10\n",
      "500/500 [==============================] - 5s 10ms/step - loss: 0.0951 - accuracy: 0.9706 - val_loss: 0.0452 - val_accuracy: 0.9859\n",
      "Epoch 5/10\n",
      "500/500 [==============================] - 5s 10ms/step - loss: 0.0798 - accuracy: 0.9760 - val_loss: 0.0362 - val_accuracy: 0.9891\n",
      "Epoch 6/10\n",
      "500/500 [==============================] - 5s 10ms/step - loss: 0.0731 - accuracy: 0.9776 - val_loss: 0.0353 - val_accuracy: 0.9894\n",
      "Epoch 7/10\n",
      "500/500 [==============================] - 5s 10ms/step - loss: 0.0628 - accuracy: 0.9808 - val_loss: 0.0352 - val_accuracy: 0.9891\n",
      "Epoch 8/10\n",
      "500/500 [==============================] - 5s 10ms/step - loss: 0.0612 - accuracy: 0.9825 - val_loss: 0.0349 - val_accuracy: 0.9892\n",
      "Epoch 9/10\n",
      "500/500 [==============================] - 5s 10ms/step - loss: 0.0606 - accuracy: 0.9816 - val_loss: 0.0333 - val_accuracy: 0.9896\n",
      "Epoch 10/10\n",
      "500/500 [==============================] - 5s 10ms/step - loss: 0.0538 - accuracy: 0.9841 - val_loss: 0.0271 - val_accuracy: 0.9917\n"
     ]
    }
   ],
   "source": [
    "history = model.fit(x_train,y_train,\n",
    "                   batch_size=batchSizeVal,\n",
    "                   steps_per_epoch=stepsPerEpochVal,\n",
    "                   epochs=epochsVal,\n",
    "                   validation_data=(x_val,y_val),\n",
    "                   shuffle=1)"
   ]
  },
  {
   "cell_type": "code",
   "execution_count": 57,
   "id": "9e89c425",
   "metadata": {
    "ExecuteTime": {
     "end_time": "2021-12-25T13:34:17.177091Z",
     "start_time": "2021-12-25T13:34:17.022219Z"
    }
   },
   "outputs": [
    {
     "data": {
      "image/png": "[encoded data removed]",
      "text/plain": [
       "<Figure size 432x288 with 1 Axes>"
      ]
     },
     "metadata": {
      "needs_background": "light"
     },
     "output_type": "display_data"
    }
   ],
   "source": [
    "plt.figure(1)\n",
    "plt.plot(history.history['loss'])\n",
    "plt.plot(history.history['val_loss'])\n",
    "plt.legend(['training', 'validation'])\n",
    "plt.title('Loss')\n",
    "plt.xlabel('epoch')\n",
    "plt.show()"
   ]
  },
  {
   "cell_type": "code",
   "execution_count": 58,
   "id": "dcd603f3",
   "metadata": {
    "ExecuteTime": {
     "end_time": "2021-12-25T13:34:17.333252Z",
     "start_time": "2021-12-25T13:34:17.177974Z"
    }
   },
   "outputs": [
    {
     "data": {
      "image/png": "[encoded data removed]",
      "text/plain": [
       "<Figure size 432x288 with 1 Axes>"
      ]
     },
     "metadata": {
      "needs_background": "light"
     },
     "output_type": "display_data"
    }
   ],
   "source": [
    "plt.figure(2)\n",
    "plt.plot(history.history['accuracy'])\n",
    "plt.plot(history.history['val_accuracy'])\n",
    "plt.legend(['training', 'validation'])\n",
    "plt.title('Accuracy')\n",
    "plt.xlabel('epoch')\n",
    "plt.show()"
   ]
  },
  {
   "cell_type": "code",
   "execution_count": 59,
   "id": "5f595c45",
   "metadata": {
    "ExecuteTime": {
     "end_time": "2021-12-25T13:34:18.834949Z",
     "start_time": "2021-12-25T13:34:17.334565Z"
    }
   },
   "outputs": [
    {
     "name": "stdout",
     "output_type": "stream",
     "text": [
      "313/313 [==============================] - 1s 4ms/step - loss: 0.0234 - accuracy: 0.9925\n",
      "Test Score =  0.023362863808870316\n",
      "Test Accuracy =  0.9925000071525574\n"
     ]
    }
   ],
   "source": [
    "score = model.evaluate(x_test,y_test,verbose=1)\n",
    "print('Test Score = ', score[0])\n",
    "print('Test Accuracy = ', score[1])"
   ]
  },
  {
   "cell_type": "code",
   "execution_count": 60,
   "id": "ca3a86e9",
   "metadata": {
    "ExecuteTime": {
     "end_time": "2021-12-25T13:34:19.607133Z",
     "start_time": "2021-12-25T13:34:18.835754Z"
    }
   },
   "outputs": [
    {
     "data": {
      "text/plain": [
       "array([9.99998808e-01, 1.40671337e-11, 7.74730182e-08, 8.76822503e-10,\n",
       "       6.88634205e-10, 3.66735051e-08, 3.97812894e-09, 7.68596742e-09,\n",
       "       1.25934205e-08, 1.05754759e-06], dtype=float32)"
      ]
     },
     "execution_count": 60,
     "metadata": {},
     "output_type": "execute_result"
    }
   ],
   "source": [
    "y_pred = model.predict(x_test)\n",
    "y_pred[10]"
   ]
  },
  {
   "cell_type": "code",
   "execution_count": 61,
   "id": "704cf51a",
   "metadata": {
    "ExecuteTime": {
     "end_time": "2021-12-25T13:34:19.654273Z",
     "start_time": "2021-12-25T13:34:19.607984Z"
    }
   },
   "outputs": [
    {
     "name": "stdout",
     "output_type": "stream",
     "text": [
      "test labels :  [6, 0, 5, 4, 9, 9, 2, 1, 9, 4]\n",
      "prediction labels :  [6, 0, 5, 4, 9, 9, 2, 1, 9, 4]\n"
     ]
    }
   ],
   "source": [
    "y_test_labels = [np.argmax(i) for i in y_test]\n",
    "print(\"test labels : \",y_test_labels[100:110])\n",
    "y_pred_labels = [np.argmax(i) for i in y_pred]\n",
    "print(\"prediction labels : \",y_pred_labels[100:110])"
   ]
  },
  {
   "cell_type": "code",
   "execution_count": 62,
   "id": "df760f63",
   "metadata": {
    "ExecuteTime": {
     "end_time": "2021-12-25T13:34:19.700778Z",
     "start_time": "2021-12-25T13:34:19.655087Z"
    }
   },
   "outputs": [
    {
     "data": {
      "text/plain": [
       "<tf.Tensor: shape=(10, 10), dtype=int32, numpy=\n",
       "array([[ 978,    0,    0,    0,    0,    0,    1,    1,    0,    0],\n",
       "       [   0, 1130,    0,    3,    0,    0,    0,    2,    0,    0],\n",
       "       [   1,    0, 1027,    1,    0,    0,    2,    1,    0,    0],\n",
       "       [   0,    0,    0, 1009,    0,    1,    0,    0,    0,    0],\n",
       "       [   0,    0,    1,    0,  973,    0,    0,    0,    1,    7],\n",
       "       [   1,    0,    0,    9,    0,  878,    1,    1,    0,    2],\n",
       "       [   4,    4,    0,    0,    2,    1,  946,    0,    1,    0],\n",
       "       [   0,    3,    2,    2,    0,    0,    0, 1017,    0,    4],\n",
       "       [   2,    0,    2,    1,    0,    0,    0,    0,  968,    1],\n",
       "       [   2,    0,    0,    0,    4,    1,    0,    1,    2,  999]])>"
      ]
     },
     "execution_count": 62,
     "metadata": {},
     "output_type": "execute_result"
    }
   ],
   "source": [
    "cm = tf.math.confusion_matrix(labels=y_test_labels,predictions=y_pred_labels)\n",
    "cm"
   ]
  },
  {
   "cell_type": "code",
   "execution_count": 63,
   "id": "6e927a27",
   "metadata": {
    "ExecuteTime": {
     "end_time": "2021-12-25T13:34:20.442377Z",
     "start_time": "2021-12-25T13:34:19.701736Z"
    }
   },
   "outputs": [
    {
     "data": {
      "text/plain": [
       "Text(69.0, 0.5, 'Truth')"
      ]
     },
     "execution_count": 63,
     "metadata": {},
     "output_type": "execute_result"
    },
    {
     "data": {
      "image/png": "[encoded data removed]",
      "text/plain": [
       "<Figure size 720x504 with 2 Axes>"
      ]
     },
     "metadata": {
      "needs_background": "light"
     },
     "output_type": "display_data"
    }
   ],
   "source": [
    "plt.figure(figsize=(10,7))\n",
    "sn.heatmap(cm,annot=True,fmt='d')\n",
    "plt.xlabel('Predicted')\n",
    "plt.ylabel('Truth')"
   ]
  },
  {
   "cell_type": "code",
   "execution_count": 64,
   "id": "717db260",
   "metadata": {
    "ExecuteTime": {
     "end_time": "2021-12-25T13:34:20.458384Z",
     "start_time": "2021-12-25T13:34:20.443468Z"
    }
   },
   "outputs": [
    {
     "name": "stdout",
     "output_type": "stream",
     "text": [
      "recall =  0.9923561348180436\n",
      "precision =  0.9925722157814996\n",
      "f1 score =  0.9924641635383943\n"
     ]
    }
   ],
   "source": [
    "recall = np.diag(cm)/np.sum(cm, axis=1)\n",
    "precision = np.diag(cm)/np.sum(cm, axis=0)\n",
    "recall = np.mean(recall)\n",
    "precision = np.mean(precision)\n",
    "f1 = (2 * precision * recall)/(precision + recall)\n",
    "print('recall = ',recall)\n",
    "print('precision = ',precision)\n",
    "print('f1 score = ',f1)"
   ]
  },
  {
   "cell_type": "code",
   "execution_count": 65,
   "id": "e3ed991a",
   "metadata": {
    "ExecuteTime": {
     "end_time": "2021-12-25T13:34:20.474263Z",
     "start_time": "2021-12-25T13:34:20.461318Z"
    }
   },
   "outputs": [
    {
     "name": "stdout",
     "output_type": "stream",
     "text": [
      "0.0299\n"
     ]
    }
   ],
   "source": [
    "from sklearn.metrics import mean_absolute_error as mae\n",
    "print(mae(y_test_labels,y_pred_labels))"
   ]
  },
  {
   "cell_type": "code",
   "execution_count": 66,
   "id": "da759e00",
   "metadata": {
    "ExecuteTime": {
     "end_time": "2021-12-25T13:34:20.490194Z",
     "start_time": "2021-12-25T13:34:20.476215Z"
    }
   },
   "outputs": [
    {
     "name": "stdout",
     "output_type": "stream",
     "text": [
      "0.1501\n"
     ]
    }
   ],
   "source": [
    "from sklearn.metrics import mean_squared_error as mse\n",
    "print(mse(y_test_labels,y_pred_labels))"
   ]
  },
  {
   "cell_type": "code",
   "execution_count": 67,
   "id": "b7f47d3a",
   "metadata": {
    "ExecuteTime": {
     "end_time": "2021-12-25T13:34:20.506225Z",
     "start_time": "2021-12-25T13:34:20.491523Z"
    }
   },
   "outputs": [
    {
     "name": "stdout",
     "output_type": "stream",
     "text": [
      "0.9925\n"
     ]
    }
   ],
   "source": [
    "from sklearn.metrics import accuracy_score as As\n",
    "print(As(y_test_labels,y_pred_labels))"
   ]
  },
  {
   "cell_type": "code",
   "execution_count": 68,
   "id": "976142b0",
   "metadata": {
    "ExecuteTime": {
     "end_time": "2021-12-25T13:34:23.739318Z",
     "start_time": "2021-12-25T13:34:20.507128Z"
    }
   },
   "outputs": [
    {
     "name": "stdout",
     "output_type": "stream",
     "text": [
      "INFO:tensorflow:Assets written to: new_model\\assets\n"
     ]
    }
   ],
   "source": [
    "filepath = 'new_model'\n",
    "tf.keras.models.save_model(\n",
    "    model, filepath, overwrite=True, include_optimizer=True, save_format=None,\n",
    "    signatures=None, options=None, save_traces=True\n",
    ")"
   ]
  },
  {
   "cell_type": "code",
   "execution_count": null,
   "id": "8ed29658",
   "metadata": {},
   "outputs": [],
   "source": []
  }
 ],
 "metadata": {
  "kernelspec": {
   "display_name": "Python 3",
   "language": "python",
   "name": "python3"
  },
  "language_info": {
   "codemirror_mode": {
    "name": "ipython",
    "version": 3
   },
   "file_extension": ".py",
   "mimetype": "text/x-python",
   "name": "python",
   "nbconvert_exporter": "python",
   "pygments_lexer": "ipython3",
   "version": "3.8.8"
  },
  "toc": {
   "base_numbering": 1,
   "nav_menu": {},
   "number_sections": true,
   "sideBar": true,
   "skip_h1_title": false,
   "title_cell": "Table of Contents",
   "title_sidebar": "Contents",
   "toc_cell": false,
   "toc_position": {},
   "toc_section_display": true,
   "toc_window_display": false
  },
  "varInspector": {
   "cols": {
    "lenName": 16,
    "lenType": 16,
    "lenVar": 40
   },
   "kernels_config": {
    "python": {
     "delete_cmd_postfix": "",
     "delete_cmd_prefix": "del ",
     "library": "var_list.py",
     "varRefreshCmd": "print(var_dic_list())"
    },
    "r": {
     "delete_cmd_postfix": ") ",
     "delete_cmd_prefix": "rm(",
     "library": "var_list.r",
     "varRefreshCmd": "cat(var_dic_list()) "
    }
   },
   "types_to_exclude": [
    "module",
    "function",
    "builtin_function_or_method",
    "instance",
    "_Feature"
   ],
   "window_display": false
  }
 },
 "nbformat": 4,
 "nbformat_minor": 5
}
